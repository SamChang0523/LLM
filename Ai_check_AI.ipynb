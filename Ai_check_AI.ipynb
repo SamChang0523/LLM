{
  "nbformat": 4,
  "nbformat_minor": 0,
  "metadata": {
    "colab": {
      "provenance": [],
      "authorship_tag": "ABX9TyPQFMcHYi36qj9RjiYX9J6v",
      "include_colab_link": true
    },
    "kernelspec": {
      "name": "python3",
      "display_name": "Python 3"
    },
    "language_info": {
      "name": "python"
    }
  },
  "cells": [
    {
      "cell_type": "markdown",
      "metadata": {
        "id": "view-in-github",
        "colab_type": "text"
      },
      "source": [
        "<a href=\"https://colab.research.google.com/github/SamChang0523/LLM/blob/main/Ai_check_AI.ipynb\" target=\"_parent\"><img src=\"https://colab.research.google.com/assets/colab-badge.svg\" alt=\"Open In Colab\"/></a>"
      ]
    },
    {
      "cell_type": "code",
      "execution_count": 1,
      "metadata": {
        "id": "az2ryLI2SvQQ"
      },
      "outputs": [],
      "source": [
        "#use Openai to creat \"guess number game\" python code and use Gemini to check these ,provide suggestion"
      ]
    },
    {
      "cell_type": "code",
      "source": [
        "#1st chain use openai, 2nd chain use gemini\n",
        "#Guess number game\n",
        "from langchain.agents import AgentType, initialize_agent, load_tools\n",
        "from langchain_openai import ChatOpenAI\n",
        "from langchain.chains import SimpleSequentialChain\n",
        "\n",
        "# 這是一個 LLMChain 你是一位程式設計師,專精程式語言為python。根據功能標題 {title} 撰寫python 程式碼。use openai\n",
        "llm_synopsis = ChatOpenAI(model_name=\"gpt-4o-mini\", temperature=0.7)\n",
        "\n",
        "template_synopsis = \"\"\"你是一位程式設計師,專精程式語言為python。根據功能標題 {title} 撰寫python 程式碼。\"\"\"\n",
        "prompt_template_synopsis = PromptTemplate(input_variables=[\"title\"], template=template_synopsis)\n",
        "synopsis_chain = LLMChain(llm=llm_synopsis, prompt=prompt_template_synopsis,output_key=\"synopsis\")\n",
        "\n",
        "# 這是一個 LLMChain 根據功能標題 {title} 撰寫python 程式碼座程式碼檢查。use gemini\n",
        "llm_review = ChatGoogleGenerativeAI(\n",
        "    model=\"gemini-2.0-flash\",\n",
        "    temperature=0.5,\n",
        "    max_tokens=None,\n",
        "    timeout=None,\n",
        "    max_retries=2,\n",
        "    # other params...\n",
        "    # other params...\n",
        ")\n",
        "\n",
        "template_review = \"\"\"你是程式設計師設計專家。根據程式碼 {synopsis}，你的任務是為該程式碼做檢查，最後請分別回傳「程式碼」與「修改建議」。\"\"\"\n",
        "prompt_template_review = PromptTemplate(input_variables=[\"synopsis\"], template=template_review)\n",
        "review_chain = LLMChain(llm=llm_review, prompt=prompt_template_review, output_key=\"review\")\n",
        "\n",
        "# 這是整體鏈，我們將這兩個鏈按照順序運行。\n",
        "from langchain.chains import SequentialChain\n",
        "overall_chain = SequentialChain(\n",
        "    chains=[synopsis_chain, review_chain],\n",
        "    input_variables=[\"title\"],\n",
        "    output_variables=[\"synopsis\", \"review\"],\n",
        "    verbose=True\n",
        ")\n",
        "\n",
        "result = overall_chain.invoke({\"title\": \"猜數字遊戲\"})\n",
        "print(result['review'])"
      ],
      "metadata": {
        "id": "pqjD9uPNTYHU"
      },
      "execution_count": null,
      "outputs": []
    }
  ]
}